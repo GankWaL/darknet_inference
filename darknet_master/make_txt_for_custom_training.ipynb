{
 "cells": [
  {
   "cell_type": "code",
   "execution_count": 1,
   "metadata": {},
   "outputs": [],
   "source": [
    "import glob\n",
    "\n",
    "def make_txt_for_custom_training(images_path, context):\n",
    "    flist = glob.glob(images_path)\n",
    "    images_list = [f_ for f_ in flist if f_.endswith(\".jpg\")]\n",
    "    # print(images_list)\n",
    "    # test = images_path.split('*')[0]\n",
    "    images_list.sort()\n",
    "    with open('C:/Users/FS/Desktop/JHW/lpr/data/' + context + \".txt\", \"w\", encoding='UTF-8' ) as f:\n",
    "        f.write('\\n'.join(images_list))"
   ]
  },
  {
   "cell_type": "code",
   "execution_count": 2,
   "metadata": {},
   "outputs": [],
   "source": [
    "images_path = \"C:\\\\Users\\\\FS\\\\Desktop\\\\JHW\\\\lpr\\\\dataset\\\\train_mitac\\\\*\"\n",
    "make_txt_for_custom_training(images_path, \"train_mitac\")"
   ]
  },
  {
   "cell_type": "code",
   "execution_count": 3,
   "metadata": {},
   "outputs": [],
   "source": [
    "images_path = \"C:\\\\Users\\\\FS\\\\Desktop\\\\JHW\\\\lpr\\\\dataset\\\\valid_mitac\\\\*\"\n",
    "make_txt_for_custom_training(images_path, \"valid_mitac\")"
   ]
  },
  {
   "cell_type": "code",
   "execution_count": null,
   "metadata": {},
   "outputs": [],
   "source": []
  }
 ],
 "metadata": {
  "kernelspec": {
   "display_name": "Python 3.10.4 ('auto_labeling')",
   "language": "python",
   "name": "python3"
  },
  "language_info": {
   "codemirror_mode": {
    "name": "ipython",
    "version": 3
   },
   "file_extension": ".py",
   "mimetype": "text/x-python",
   "name": "python",
   "nbconvert_exporter": "python",
   "pygments_lexer": "ipython3",
   "version": "3.10.4"
  },
  "orig_nbformat": 4,
  "vscode": {
   "interpreter": {
    "hash": "e5f62a58d0b5b8e3dab7b38f74ee068362b378fded47326c93d52401659b42c7"
   }
  }
 },
 "nbformat": 4,
 "nbformat_minor": 2
}
